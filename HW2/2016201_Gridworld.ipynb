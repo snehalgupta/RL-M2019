{
 "cells": [
  {
   "cell_type": "code",
   "execution_count": 1,
   "metadata": {},
   "outputs": [],
   "source": [
    "import numpy as np\n",
    "\n",
    "\n",
    "class GridWorld:\n",
    "\n",
    "    # Initialization of parameters, variable names are self-explanatory\n",
    "    def __init__(self, no_of_rows, no_of_cols, discount, prob):\n",
    "\n",
    "        self.no_of_rows = no_of_rows\n",
    "        self.no_of_cols = no_of_cols\n",
    "        self.discount_rate = discount\n",
    "        self.action_prob = prob\n",
    "        self.v_pi = np.zeros((no_of_rows, no_of_cols))\n",
    "        self.no_of_states = no_of_rows*no_of_cols\n",
    "        self.actions = list()\n",
    "        self.actions.append([0, -1])\n",
    "        self.actions.append([-1, 0])\n",
    "        self.actions.append([0, 1])\n",
    "        self.actions.append([1, 0])\n",
    "\n",
    "    # Finds state-value function\n",
    "    def find_v_pi(self):\n",
    "\n",
    "        flag = 0\n",
    "        while flag == 0: # Until convergence\n",
    "            v_pi_new = np.zeros(self.v_pi.shape)\n",
    "            for i in range(self.no_of_rows): # Iterate over states\n",
    "                for j in range(self.no_of_cols):\n",
    "                    for action in self.actions: # Iterate over actions\n",
    "                        next_state, reward = self.take_step([i, j], action) # Take step and get reward\n",
    "                        v_pi_new[i, j] += self.action_prob * (reward + self.discount_rate * self.v_pi[next_state[0], next_state[1]]) # Bellman's update rule\n",
    "            if np.sum(np.abs(self.v_pi-v_pi_new)) < 0.0004: # Check convergence\n",
    "                print(self.v_pi)\n",
    "                break\n",
    "            self.v_pi = v_pi_new\n",
    "\n",
    "    # Takes current state and action taken as parameters and returns next state and reward\n",
    "    def take_step(self, state, action):\n",
    "\n",
    "        if state[0] == 0 and state[1] == 1:\n",
    "            return [4,1], 10\n",
    "        elif state[0] == 0 and state[1] == 3:\n",
    "            return [2,3], 5\n",
    "        next_state = list()\n",
    "        next_state.append(state[0]+action[0])\n",
    "        next_state.append(state[1]+action[1])\n",
    "        if next_state[0] < 0 or next_state[0] >= self.no_of_rows or next_state[1] < 0 or next_state[1] >= self.no_of_cols:\n",
    "            reward = -1\n",
    "            next_state = state\n",
    "        else:\n",
    "            reward = 0\n",
    "        return next_state, reward\n"
   ]
  },
  {
   "cell_type": "code",
   "execution_count": 2,
   "metadata": {},
   "outputs": [
    {
     "name": "stdout",
     "output_type": "stream",
     "text": [
      "[[ 3.30914382  8.78943917  4.42776616  5.32251425  1.49232523]\n",
      " [ 1.52173554  2.99246515  2.25028693  1.90771837  0.54754919]\n",
      " [ 0.05096995  0.73831787  0.67326024  0.3583329  -0.40299464]\n",
      " [-0.97344484 -0.43534815 -0.35473528 -0.58545839 -1.18292857]\n",
      " [-1.85755309 -1.34508398 -1.22912027 -1.42277145 -1.97503253]]\n"
     ]
    }
   ],
   "source": [
    "gridworld_obj = GridWorld(5,5,0.9,0.25)\n",
    "gridworld_obj.find_v_pi()"
   ]
  }
 ],
 "metadata": {
  "kernelspec": {
   "display_name": "Python 3",
   "language": "python",
   "name": "python3"
  },
  "language_info": {
   "codemirror_mode": {
    "name": "ipython",
    "version": 3
   },
   "file_extension": ".py",
   "mimetype": "text/x-python",
   "name": "python",
   "nbconvert_exporter": "python",
   "pygments_lexer": "ipython3",
   "version": "3.6.5"
  }
 },
 "nbformat": 4,
 "nbformat_minor": 1
}
